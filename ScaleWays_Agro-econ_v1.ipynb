{
 "cells": [
  {
   "cell_type": "code",
   "execution_count": 1,
   "metadata": {
    "hideCode": false,
    "hidePrompt": false,
    "hide_input": true
   },
   "outputs": [],
   "source": [
    "import pandas as pd\n",
    "import numpy as np\n",
    "\n",
    "import sys\n",
    "\n",
    "from pyomo.environ import *\n",
    "from pyomo.opt import SolverFactory\n",
    "import pyomo.environ as pyo\n",
    "\n",
    "import matplotlib.pyplot as plt\n",
    "import geopandas as gpd\n",
    "import xlrd\n",
    "import plotly.express as px\n",
    "import plotly.graph_objects as go\n",
    "\n",
    "import json"
   ]
  },
  {
   "cell_type": "code",
   "execution_count": 2,
   "metadata": {
    "hideCode": false,
    "hidePrompt": false,
    "tags": [
     "nbconvert-remove-input"
    ]
   },
   "outputs": [],
   "source": [
    "# Load the data to be used\n",
    "#%run \"...py\""
   ]
  },
  {
   "cell_type": "markdown",
   "metadata": {
    "hideCode": false,
    "hidePrompt": false
   },
   "source": [
    "# ScaleWAYS - Agro-economic Model - v1"
   ]
  },
  {
   "cell_type": "markdown",
   "metadata": {
    "hideCode": false,
    "hidePrompt": false
   },
   "source": [
    "## 1. Overview \n",
    "\n",
    "The scaleWAYS project aims to identify the the most suitable regions in the extended Lake Victoria Basin (eLVB) for producing rice . Increasing production of rice in the eLVB is seen as a good business opportunity given that demand for this staple is growing in the region and that a great proportion of this cereal comes from Asia. Increasing domestic production can contribute to food security, specially in situations like pandemics where food value chain are disrupted. \n",
    "\n",
    "The rapid growth in rice demand calls for improving productivity and resources use efficiency in agriculture. Production of rice are specially known for their negative impacts on the environment (e.g., greenhouse gases emissions, intensive water use), which also calls for improving productivity sustainably. Therefore, simulating the yields and environmental impacts of different agronomic options under different climate change and economic scenarios can provide rich insights of which options are the most sustainable to intensify the production of this crop.\n",
    "\n",
    "A systems and modeling approach can be helpful to identify the best strategies to meet the growing demand for rice, specially under the uncertainty of climate change. \n",
    "\n",
    "### 1.1 Agro-economic model \n",
    "The objective of the agro-economic model is to find the most profitable \n",
    "combination of production options that will satisfy the rice demand of the extended Lake Victoria Basin. Four combinations of 2 levels of intensification (i.e., low and intermerdiate use of inputs) and rainfed and irrigated production are explored. The upper limits are defined by the land, water, and labor availability; and the lower limits are defined by rice demand.\n",
    "\n",
    "\n",
    "---\n",
    "\n",
    "\n",
    "**Sets** \n",
    "\\begin{eqnarray*}\n",
    "    I  =  \\{ \\text{low inputs, intermediate inputs} \\} \\\\\n",
    "    W  =  \\{ \\text{rainfed, irrigated} \\} \n",
    "\\end{eqnarray*}\n",
    "\n",
    "**Parameters**\n",
    "\\begin{eqnarray*}\n",
    "    & p  & \\textrm{price of crop}  \\\\\n",
    "    & y_{i,w} & \\textrm{yields}  \\\\\n",
    "    & pc_{i,w} & \\textrm{production cost per unit of} \\\\\n",
    "    & w & \\textrm{irrigation water requirements per unit of area} \\\\\n",
    "    & \\eta & \\textrm{irrigation efficiency} \\\\\n",
    "    & l_{i,w} & \\textrm{labor requirement per unit of area} \\\\\n",
    "    & land_{i,w} & \\textrm{land suitable and available} \\\\\n",
    "    & water & \\textrm{water available} \\\\\n",
    "    & labor & \\textrm{labor available} \\\\\n",
    "    & demand & \\textrm{demand for rice}\n",
    "\\end{eqnarray*}\n",
    "\n",
    "**Variables**\n",
    "\\begin{eqnarray*} \n",
    "    & area_{i,w} & \\text{area allocated for rice production} \\\\\n",
    "    & irr_{i,w} & \\text{irrigation water requirement} \\\\\n",
    "    & prod_{i,w} & \\text{crop production} \\\\\n",
    "    & profit_{i,w} & \\text{profit}\n",
    " \\end{eqnarray*}\n",
    " \n",
    "**Maximize**\n",
    " \\begin{align}\n",
    "& \\displaystyle \\sum_{i,w} (y_{i,w} * area_{i,w} * p) - pc_{i,w} & \\textrm{maximize profit}\n",
    "\\end{align}\n",
    "\n",
    "**Constraints**\n",
    "\\begin{align}\n",
    "& \\sum_{i,w} area_{i,w} \\leq \\sum_{i,w} land_{i,w} \\\\ \n",
    "& \\sum_{i,w} irr_{i,w} \\leq \\eta \\cdot water  \\label{eq:wateravailable} \\\\ \n",
    "& \\sum_{i,w} l_{i,w} \\cdot area_{i,w} \\leq labor  \\label{eq:laboravailable} \\\\ \n",
    "& \\sum_{i,w} prod_{i,w} \\leq demand  \\label{eq:ricedemand} \\\\ \n",
    "& area_{i,w} \\geq 0 \\label{eq:nonnegativearea}\n",
    "\\end{align}\n",
    "\n",
    "---\n",
    "\n",
    "### 1.2 Data inputs\n",
    "\n",
    "#### 1.2.1 Area and yields data\n",
    "\n",
    "$land_{i,w}$ suitable for producing rice, and expected yields ($y_{i,w}$) can be quantified and located using the outputs of the GAEZ model. Yet, these data has to be processed to fulfill some of the assumptions defined in teh scenarios. For example, in the \"conservation\" scenario, we may limit rice and fodder production to actual cropland and grassland. This hypothetically will prevent future deforestation and degradation of other ecosystems, such as wetlands. \n",
    "\n",
    "GAEZ estimations for current harvested area (cropland) can be validated with (i) remotely sensed data, and (ii) data from other models, such as SPAM and CELL5C from IFPRI. This is speciall important \n",
    "\n",
    "#### 1.2.2 Water data\n",
    "\n",
    "$water$ available for production of rice, fodder and crops can be estimated from the outputs of ECHO and cWATm. In the previous study, our colleagues calculated water withdrawals from different sectors (i.e., agriculture, domestic, industry, livestock) and environmental flows (2006-2055, for the 61 watersheds) using two different climate models: HadGEM2 and MIROC5. \n",
    "\n",
    "For the EGU presentation, I calculated the water available for irrigation as follows:\n",
    "\n",
    "\\begin{eqnarray}\n",
    "  & ww = \\frac{1}{j} \\sum_{ij} ww_{ij} & \\textrm{withdrawal from sector $i$ under climate scenario $j$} \\label{eq:waterwithdrawal} \\\\\n",
    "  & env = \\frac{1}{j} \\sum_{j} env_{j} & \\textrm{environmental flow estimated $i$ under climate scenario $j$} \\\\\n",
    "  & dis = \\frac{1}{j} \\sum_{j} dis_{j} & \\textrm{discharge estimated under climate scenario $j$} \\\\\n",
    "  & wat = dis - ( ww + env) & \\textrm{water available for irrigation}\n",
    "\\end{eqnarray}{}\n",
    "\n",
    "#### 1.2.3 Economic data (prices, production costs)\n",
    "\n",
    "#### 1.2.4 Demographic and food consumption data"
   ]
  }
 ],
 "metadata": {
  "celltoolbar": "Hide code",
  "hide_code_all_hidden": false,
  "kernelspec": {
   "display_name": "Python 3",
   "language": "python",
   "name": "python3"
  },
  "language_info": {
   "codemirror_mode": {
    "name": "ipython",
    "version": 3
   },
   "file_extension": ".py",
   "mimetype": "text/x-python",
   "name": "python",
   "nbconvert_exporter": "python",
   "pygments_lexer": "ipython3",
   "version": "3.7.8"
  }
 },
 "nbformat": 4,
 "nbformat_minor": 4
}
